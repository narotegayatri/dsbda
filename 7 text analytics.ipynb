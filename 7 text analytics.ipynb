{
 "cells": [
  {
   "cell_type": "code",
   "execution_count": 1,
   "metadata": {
    "colab": {
     "base_uri": "https://localhost:8080/"
    },
    "executionInfo": {
     "elapsed": 3006,
     "status": "ok",
     "timestamp": 1652417027075,
     "user": {
      "displayName": "Sahil Solan",
      "userId": "17231884575228946191"
     },
     "user_tz": -330
    },
    "id": "Lly7FRBmCrtV",
    "outputId": "63eaaf9b-3863-4483-d40d-a7a87b1ae737"
   },
   "outputs": [
    {
     "name": "stderr",
     "output_type": "stream",
     "text": [
      "[nltk_data] Downloading package punkt to\n",
      "[nltk_data]     C:\\Users\\ASUS\\AppData\\Roaming\\nltk_data...\n",
      "[nltk_data]   Package punkt is already up-to-date!\n",
      "[nltk_data] Downloading package stopwords to\n",
      "[nltk_data]     C:\\Users\\ASUS\\AppData\\Roaming\\nltk_data...\n",
      "[nltk_data]   Package stopwords is already up-to-date!\n",
      "[nltk_data] Downloading package wordnet to\n",
      "[nltk_data]     C:\\Users\\ASUS\\AppData\\Roaming\\nltk_data...\n",
      "[nltk_data]   Package wordnet is already up-to-date!\n",
      "[nltk_data] Downloading package omw-1.4 to\n",
      "[nltk_data]     C:\\Users\\ASUS\\AppData\\Roaming\\nltk_data...\n",
      "[nltk_data]   Package omw-1.4 is already up-to-date!\n"
     ]
    },
    {
     "data": {
      "text/plain": [
       "True"
      ]
     },
     "execution_count": 1,
     "metadata": {},
     "output_type": "execute_result"
    }
   ],
   "source": [
    "import nltk\n",
    "nltk.download('punkt')\n",
    "nltk.download('stopwords')\n",
    "nltk.download('wordnet')\n",
    "nltk.download('omw-1.4')"
   ]
  },
  {
   "cell_type": "code",
   "execution_count": 2,
   "metadata": {
    "colab": {
     "base_uri": "https://localhost:8080/"
    },
    "executionInfo": {
     "elapsed": 26,
     "status": "ok",
     "timestamp": 1652417027077,
     "user": {
      "displayName": "Sahil Solan",
      "userId": "17231884575228946191"
     },
     "user_tz": -330
    },
    "id": "PFWJrPxvFW2Z",
    "outputId": "967403e6-87ac-47d6-a385-9c6c90dee554"
   },
   "outputs": [
    {
     "name": "stdout",
     "output_type": "stream",
     "text": [
      "['Hello Mr. Smith, how are you doing today?', 'The weather is great, and city is awesome.The sky is pinkish-blue.', \"You shouldn't eat cardboard\"]\n"
     ]
    }
   ],
   "source": [
    "from nltk.tokenize import sent_tokenize\n",
    "text=\"\"\"Hello Mr. Smith, how are you doing today? The weather is great, and city is awesome.The sky is pinkish-blue. You shouldn't eat cardboard\"\"\"\n",
    "\n",
    "tokenized_text=sent_tokenize(text)\n",
    "print(tokenized_text)"
   ]
  },
  {
   "cell_type": "code",
   "execution_count": 3,
   "metadata": {
    "colab": {
     "base_uri": "https://localhost:8080/"
    },
    "executionInfo": {
     "elapsed": 24,
     "status": "ok",
     "timestamp": 1652417027078,
     "user": {
      "displayName": "Sahil Solan",
      "userId": "17231884575228946191"
     },
     "user_tz": -330
    },
    "id": "TkBfBXPxF0Jx",
    "outputId": "3380c740-1187-46cd-ef16-75b56c0e2e7a"
   },
   "outputs": [
    {
     "name": "stdout",
     "output_type": "stream",
     "text": [
      "['Hello', 'Mr.', 'Smith', ',', 'how', 'are', 'you', 'doing', 'today', '?', 'The', 'weather', 'is', 'great', ',', 'and', 'city', 'is', 'awesome.The', 'sky', 'is', 'pinkish-blue', '.', 'You', 'should', \"n't\", 'eat', 'cardboard']\n"
     ]
    }
   ],
   "source": [
    "from nltk.tokenize import word_tokenize\n",
    "tokenized_word=word_tokenize(text)\n",
    "print(tokenized_word)"
   ]
  },
  {
   "cell_type": "code",
   "execution_count": 4,
   "metadata": {
    "colab": {
     "base_uri": "https://localhost:8080/"
    },
    "executionInfo": {
     "elapsed": 22,
     "status": "ok",
     "timestamp": 1652417027078,
     "user": {
      "displayName": "Sahil Solan",
      "userId": "17231884575228946191"
     },
     "user_tz": -330
    },
    "id": "79mls2MrF5rQ",
    "outputId": "4f32db22-b0ef-42ae-a3dd-224f2bf1764a"
   },
   "outputs": [
    {
     "name": "stdout",
     "output_type": "stream",
     "text": [
      "<FreqDist with 25 samples and 28 outcomes>\n"
     ]
    }
   ],
   "source": [
    "from nltk.probability import FreqDist\n",
    "fdist = FreqDist(tokenized_word)\n",
    "print(fdist)"
   ]
  },
  {
   "cell_type": "code",
   "execution_count": 5,
   "metadata": {
    "colab": {
     "base_uri": "https://localhost:8080/",
     "height": 338
    },
    "executionInfo": {
     "elapsed": 21,
     "status": "ok",
     "timestamp": 1652417027079,
     "user": {
      "displayName": "Sahil Solan",
      "userId": "17231884575228946191"
     },
     "user_tz": -330
    },
    "id": "kIJ2z76EGDky",
    "outputId": "9eea3c3f-25bb-41da-9ca5-a0247072b846"
   },
   "outputs": [
    {
     "data": {
      "image/png": "[encoded data removed]",
      "text/plain": [
       "<Figure size 432x288 with 1 Axes>"
      ]
     },
     "metadata": {
      "needs_background": "light"
     },
     "output_type": "display_data"
    }
   ],
   "source": [
    "import matplotlib.pyplot as plt\n",
    "fdist.plot(30,cumulative=False)\n",
    "plt.show()"
   ]
  },
  {
   "cell_type": "code",
   "execution_count": 6,
   "metadata": {
    "colab": {
     "base_uri": "https://localhost:8080/"
    },
    "executionInfo": {
     "elapsed": 20,
     "status": "ok",
     "timestamp": 1652417027080,
     "user": {
      "displayName": "Sahil Solan",
      "userId": "17231884575228946191"
     },
     "user_tz": -330
    },
    "id": "eVCnqw-wGIbm",
    "outputId": "09da51e5-ef82-4ae0-c062-15db781f2080"
   },
   "outputs": [
    {
     "name": "stdout",
     "output_type": "stream",
     "text": [
      "{'no', 'when', 'during', 'how', 'his', \"won't\", 'she', 'both', 'ma', 'being', 'such', \"hasn't\", \"didn't\", 'nor', 'with', 'any', 'doing', 'your', 'at', 'yourselves', 'because', \"mustn't\", \"you've\", 'is', 'own', \"hadn't\", 'between', 'here', 'some', \"it's\", 'haven', 'mustn', 'won', 'were', 'her', 'he', 'only', 'which', 'am', 'does', 'most', 'himself', 'was', 'aren', 'yourself', \"aren't\", \"needn't\", 'weren', 'ourselves', \"wouldn't\", 'once', \"should've\", 'wouldn', 'but', \"you're\", 'by', 'if', 'further', 'will', \"weren't\", 'themselves', 'can', 'mightn', 'my', 'in', 'didn', 'on', 'hers', 'yours', 's', 'couldn', 'these', 'd', 'under', \"you'll\", 'the', 'have', 'a', \"that'll\", 'out', 'as', 'doesn', 'through', \"couldn't\", 'into', 'after', 'me', 'm', 'o', 'they', 'very', 'same', 'over', 'about', 'those', \"isn't\", 'then', 'hadn', 'don', 'to', 'isn', 're', 'its', 'him', \"wasn't\", 'ours', 'above', \"doesn't\", 'or', 'what', 'has', 'this', 'll', 'you', 'their', 'from', 'each', 'are', 'there', 'who', 'having', 'an', 'theirs', 'i', 'been', 'hasn', 'for', 'our', 'had', 'up', 'be', 'herself', 'against', 'than', 'ain', \"shouldn't\", \"mightn't\", 'wasn', 'few', \"you'd\", 'not', 'y', 'shouldn', 'where', 'them', 'whom', 'myself', 'again', 'itself', 'all', 'other', 'before', 'now', 'why', 'too', \"shan't\", 'down', \"haven't\", 'do', 'below', 'off', 'we', 'shan', 'until', 'did', 'and', 'just', 'while', 'needn', \"don't\", 'that', 'so', 'it', 've', 'of', 't', \"she's\", 'should', 'more'}\n"
     ]
    }
   ],
   "source": [
    "from nltk.corpus import stopwords\n",
    "stop_words=set(stopwords.words(\"english\"))\n",
    "print(stop_words)"
   ]
  },
  {
   "cell_type": "code",
   "execution_count": 7,
   "metadata": {
    "colab": {
     "base_uri": "https://localhost:8080/"
    },
    "executionInfo": {
     "elapsed": 18,
     "status": "ok",
     "timestamp": 1652417027080,
     "user": {
      "displayName": "Sahil Solan",
      "userId": "17231884575228946191"
     },
     "user_tz": -330
    },
    "id": "jrjI8JrAGWTp",
    "outputId": "345d1d99-1c6c-40aa-facc-ed1aff075954"
   },
   "outputs": [
    {
     "name": "stdout",
     "output_type": "stream",
     "text": [
      "Tokenized Sentence: ['Hello', 'Mr.', 'Smith', ',', 'how', 'are', 'you', 'doing', 'today', '?', 'The', 'weather', 'is', 'great', ',', 'and', 'city', 'is', 'awesome.The', 'sky', 'is', 'pinkish-blue', '.', 'You', 'should', \"n't\", 'eat', 'cardboard']\n",
      "Filterd Sentence: ['Hello', 'Mr.', 'Smith', ',', 'today', '?', 'The', 'weather', 'great', ',', 'city', 'awesome.The', 'sky', 'pinkish-blue', '.', 'You', \"n't\", 'eat', 'cardboard']\n"
     ]
    }
   ],
   "source": [
    "filtered_sent=[]\n",
    "for w in tokenized_word:\n",
    "    if w not in stop_words:\n",
    "         filtered_sent.append(w)\n",
    "print(\"Tokenized Sentence:\",tokenized_word)\n",
    "print(\"Filterd Sentence:\",filtered_sent)"
   ]
  },
  {
   "cell_type": "code",
   "execution_count": 8,
   "metadata": {
    "colab": {
     "base_uri": "https://localhost:8080/"
    },
    "executionInfo": {
     "elapsed": 16,
     "status": "ok",
     "timestamp": 1652417027081,
     "user": {
      "displayName": "Sahil Solan",
      "userId": "17231884575228946191"
     },
     "user_tz": -330
    },
    "id": "FWTeIyuYHzzR",
    "outputId": "cbc13a90-66c9-47db-ff15-a01dbf1e51a1"
   },
   "outputs": [
    {
     "name": "stdout",
     "output_type": "stream",
     "text": [
      "Filtered Sentence: ['Hello', 'Mr.', 'Smith', ',', 'today', '?', 'The', 'weather', 'great', ',', 'city', 'awesome.The', 'sky', 'pinkish-blue', '.', 'You', \"n't\", 'eat', 'cardboard']\n",
      "Stemmed Sentence: ['hello', 'mr.', 'smith', ',', 'today', '?', 'the', 'weather', 'great', ',', 'citi', 'awesome.th', 'sky', 'pinkish-blu', '.', 'you', \"n't\", 'eat', 'cardboard']\n"
     ]
    }
   ],
   "source": [
    "# Stemming\n",
    "from nltk.stem import PorterStemmer\n",
    "from nltk.tokenize import sent_tokenize, word_tokenize\n",
    "\n",
    "ps = PorterStemmer()\n",
    "stemmed_words=[]\n",
    "for w in filtered_sent:\n",
    "     stemmed_words.append(ps.stem(w))\n",
    "print(\"Filtered Sentence:\",filtered_sent)\n",
    "print(\"Stemmed Sentence:\",stemmed_words)\n"
   ]
  },
  {
   "cell_type": "code",
   "execution_count": 9,
   "metadata": {
    "colab": {
     "base_uri": "https://localhost:8080/"
    },
    "executionInfo": {
     "elapsed": 1814,
     "status": "ok",
     "timestamp": 1652417028881,
     "user": {
      "displayName": "Sahil Solan",
      "userId": "17231884575228946191"
     },
     "user_tz": -330
    },
    "id": "F5JgaI5EIASk",
    "outputId": "1138b4ca-833e-41e0-fd1a-c9fbe7f1841d"
   },
   "outputs": [
    {
     "name": "stdout",
     "output_type": "stream",
     "text": [
      "Lemmatized Word: fly\n",
      "Stemmed Word: fli\n"
     ]
    }
   ],
   "source": [
    "#Lexicon Normalization\n",
    "#performing stemming and Lemmatization\n",
    "from nltk.stem.wordnet import WordNetLemmatizer\n",
    "from nltk.stem.porter import PorterStemmer\n",
    "lem = WordNetLemmatizer()\n",
    "stem = PorterStemmer()\n",
    "word = \"flying\"\n",
    "print(\"Lemmatized Word:\",lem.lemmatize(word,\"v\"))\n",
    "print(\"Stemmed Word:\",stem.stem(word))\n"
   ]
  },
  {
   "cell_type": "code",
   "execution_count": 10,
   "metadata": {
    "colab": {
     "base_uri": "https://localhost:8080/"
    },
    "executionInfo": {
     "elapsed": 8,
     "status": "ok",
     "timestamp": 1652417028882,
     "user": {
      "displayName": "Sahil Solan",
      "userId": "17231884575228946191"
     },
     "user_tz": -330
    },
    "id": "FRpEn2TQIO8T",
    "outputId": "897014d5-8bba-4534-c7f1-2120bd42cc8b"
   },
   "outputs": [
    {
     "name": "stdout",
     "output_type": "stream",
     "text": [
      "['Albert', 'Einstein', 'was', 'born', 'in', 'Ulm', ',', 'Germany', 'in', '1879', '.']\n"
     ]
    }
   ],
   "source": [
    "sent = \"Albert Einstein was born in Ulm, Germany in 1879.\"\n",
    "tokens=nltk.word_tokenize(sent)\n",
    "print(tokens)"
   ]
  }
 ],
 "metadata": {
  "colab": {
   "collapsed_sections": [],
   "name": "7 text analytics.ipynb",
   "provenance": []
  },
  "interpreter": {
   "hash": "ff0d91300876931207232d01add3156fa7c8214350996c757a3c6cebc4b3b5d5"
  },
  "kernelspec": {
   "display_name": "Python 3 (ipykernel)",
   "language": "python",
   "name": "python3"
  },
  "language_info": {
   "codemirror_mode": {
    "name": "ipython",
    "version": 3
   },
   "file_extension": ".py",
   "mimetype": "text/x-python",
   "name": "python",
   "nbconvert_exporter": "python",
   "pygments_lexer": "ipython3",
   "version": "3.10.0"
  }
 },
 "nbformat": 4,
 "nbformat_minor": 1
}
